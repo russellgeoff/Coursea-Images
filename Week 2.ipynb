{
 "cells": [
  {
   "cell_type": "markdown",
   "metadata": {},
   "source": [
    "# Image and video compression\n",
    "# Week 2\n",
    "\n",
    "1. Do a basic implementation of JPEG.\n",
    "    1. Divide the image into non-overlapping 8x8 blocks.\n",
    "    2. Compute the DCT (discrete cosine transform) of each block. This is implemented in popular packages such as Matlab.\n",
    "    3. Quantize each block. You can do this using the tables in the video or simply divide each coefficient by N, round the result to the nearest integer, and multiply back by N. Try for different values of N. You can also try preserving the c)8 largest coefficients (out of the total of 8x8=64), and simply rounding them to the closest integer.\n",
    "    4. Visualize the results after you invert the quantization and the DCT.\n",
    "2. Repeat the above but instead of using the DCT, use the FFT (Fast Fourier Transform).\n",
    "3. Repeat the above JPEG-type compression but don’t use any transform, simply perform quantization on the original image.\n",
    "4. Do JPEG now for color images. In Matlab, use the rgb2ycbcr command to convert the Red-Green-Blue image to a Lumina and Chroma one; then perform the JPEG-style compression on each one of the three channels independently. After inverting the compression, invert the color transform and visualize the result. While keeping the compression ratio constant for the Y channel, increase the compression of the two chrominance channels and observe the results.\n",
    "5. Compute the histogram of a given image and of its prediction errors. If the pixel being processed is at coordinate (0,0), consider\n",
    "    1. predicting based on just the pixel at (-1,0);\n",
    "    2. predicting based on just the pixel at (0,1);\n",
    "    3. predicting based on the average of the pixels at (-1,0), (-1,1), and (0,1).\n",
    "6. Compute the entropy for each one of the predictors in the previous exercise. Which predictor will compress better?"
   ]
  }
 ],
 "metadata": {
  "kernelspec": {
   "display_name": "Python 2",
   "language": "python",
   "name": "python2"
  },
  "language_info": {
   "codemirror_mode": {
    "name": "ipython",
    "version": 2
   },
   "file_extension": ".py",
   "mimetype": "text/x-python",
   "name": "python",
   "nbconvert_exporter": "python",
   "pygments_lexer": "ipython2",
   "version": "2.7.10"
  }
 },
 "nbformat": 4,
 "nbformat_minor": 0
}
